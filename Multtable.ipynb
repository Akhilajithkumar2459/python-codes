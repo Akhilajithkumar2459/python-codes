{
  "nbformat": 4,
  "nbformat_minor": 0,
  "metadata": {
    "colab": {
      "provenance": [],
      "authorship_tag": "ABX9TyPTvabkdlWxjaFrh12nX7b6",
      "include_colab_link": true
    },
    "kernelspec": {
      "name": "python3",
      "display_name": "Python 3"
    },
    "language_info": {
      "name": "python"
    }
  },
  "cells": [
    {
      "cell_type": "markdown",
      "metadata": {
        "id": "view-in-github",
        "colab_type": "text"
      },
      "source": [
        "<a href=\"https://colab.research.google.com/github/DIFFIDENT24/new/blob/main/Multtable.ipynb\" target=\"_parent\"><img src=\"https://colab.research.google.com/assets/colab-badge.svg\" alt=\"Open In Colab\"/></a>"
      ]
    },
    {
      "cell_type": "code",
      "execution_count": null,
      "metadata": {
        "colab": {
          "base_uri": "https://localhost:8080/"
        },
        "id": "O_xXbby8JJNi",
        "outputId": "3a0c8572-4e0b-4ad1-91e3-b29b45df4966"
      },
      "outputs": [
        {
          "output_type": "stream",
          "name": "stdout",
          "text": [
            "Enter the number\n",
            "2\n",
            "Multiplication table of the number \n",
            "2 × 0 = 0\n",
            "2 × 1 = 2\n",
            "2 × 2 = 4\n",
            "2 × 3 = 6\n",
            "2 × 4 = 8\n",
            "2 × 5 = 10\n",
            "2 × 6 = 12\n",
            "2 × 7 = 14\n",
            "2 × 8 = 16\n",
            "2 × 9 = 18\n",
            "2 × 10 = 20\n"
          ]
        }
      ],
      "source": [
        "#Table of a number\n",
        "print(\"Enter the number\")\n",
        "a=int(input())\n",
        "print(\"Multiplication table of the number \")\n",
        "list1=list(range(11))\n",
        "for i in list1:\n",
        "    print(a,\"×\",i,\"=\",a*i)\n",
        "    i=i+1"
      ]
    }
  ]
}