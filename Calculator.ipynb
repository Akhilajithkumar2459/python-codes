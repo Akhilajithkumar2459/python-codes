{
  "nbformat": 4,
  "nbformat_minor": 0,
  "metadata": {
    "colab": {
      "provenance": [],
      "authorship_tag": "ABX9TyPrUV6Otl04vPLnYrSpLchl",
      "include_colab_link": true
    },
    "kernelspec": {
      "name": "python3",
      "display_name": "Python 3"
    },
    "language_info": {
      "name": "python"
    }
  },
  "cells": [
    {
      "cell_type": "markdown",
      "metadata": {
        "id": "view-in-github",
        "colab_type": "text"
      },
      "source": [
        "<a href=\"https://colab.research.google.com/github/DIFFIDENT24/new/blob/main/Calculator.ipynb\" target=\"_parent\"><img src=\"https://colab.research.google.com/assets/colab-badge.svg\" alt=\"Open In Colab\"/></a>"
      ]
    },
    {
      "cell_type": "code",
      "execution_count": 1,
      "metadata": {
        "colab": {
          "base_uri": "https://localhost:8080/"
        },
        "id": "isCbvkmWQJbV",
        "outputId": "e81acdf2-f0ff-40b7-e3e3-a4cc40b3860e"
      },
      "outputs": [
        {
          "output_type": "stream",
          "name": "stdout",
          "text": [
            "enter the numbers\n",
            "4\n",
            "6\n",
            "enter the operation\n",
            "1.add,2.sub,3.mul,4.div4\n",
            "0.6666666666666666\n"
          ]
        }
      ],
      "source": [
        "#calculator\n",
        "print(\"enter the numbers\")\n",
        "a=int(input())\n",
        "b=int(input())\n",
        "print(\"enter the operation\")\n",
        "oper=int(input(\"1.add,2.sub,3.mul,4.div\"))\n",
        "if oper==1:\n",
        "    print(a+b)\n",
        "elif oper==2:\n",
        "    print(a-b)\n",
        "elif oper==3:\n",
        "    print(a*b)\n",
        "elif oper==4:\n",
        "    print(a/b)\n",
        "else:\n",
        "    print(\"wrong operation \")"
      ]
    }
  ]
}