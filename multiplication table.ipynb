{
  "nbformat": 4,
  "nbformat_minor": 0,
  "metadata": {
    "colab": {
      "provenance": [],
      "authorship_tag": "ABX9TyOOOzL16ayKojcPwnOZm34J",
      "include_colab_link": true
    },
    "kernelspec": {
      "name": "python3",
      "display_name": "Python 3"
    },
    "language_info": {
      "name": "python"
    }
  },
  "cells": [
    {
      "cell_type": "markdown",
      "metadata": {
        "id": "view-in-github",
        "colab_type": "text"
      },
      "source": [
        "<a href=\"https://colab.research.google.com/github/DIFFIDENT24/new/blob/main/multiplication%20table.ipynb\" target=\"_parent\"><img src=\"https://colab.research.google.com/assets/colab-badge.svg\" alt=\"Open In Colab\"/></a>"
      ]
    },
    {
      "cell_type": "code",
      "execution_count": null,
      "metadata": {
        "colab": {
          "base_uri": "https://localhost:8080/"
        },
        "id": "O_xXbby8JJNi",
        "outputId": "569ce160-adb0-4d5d-d2a1-332619305f65"
      },
      "outputs": [
        {
          "output_type": "stream",
          "name": "stdout",
          "text": [
            "Enter the number\n",
            "3\n",
            "Multiplication table of  4 is\n",
            "3 × 0 = 0\n",
            "3 × 1 = 3\n",
            "3 × 2 = 6\n",
            "3 × 3 = 9\n",
            "3 × 4 = 12\n",
            "3 × 5 = 15\n",
            "3 × 6 = 18\n",
            "3 × 7 = 21\n",
            "3 × 8 = 24\n",
            "3 × 9 = 27\n",
            "3 × 10 = 30\n"
          ]
        }
      ],
      "source": [
        "#Table of a number\n",
        "print(\"Enter the number\")\n",
        "a=int(input())\n",
        "print(\"Multiplication table of \",4,\"is\")\n",
        "list1=list(range(11))\n",
        "for i in list1:\n",
        "    print(a,\"×\",i,\"=\",a*i)\n",
        "    i=i+1"
      ]
    }
  ]
}